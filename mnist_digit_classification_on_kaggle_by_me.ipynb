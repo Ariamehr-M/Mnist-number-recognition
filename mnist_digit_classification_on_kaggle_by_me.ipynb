{
  "nbformat": 4,
  "nbformat_minor": 0,
  "metadata": {
    "kernelspec": {
      "name": "python3",
      "display_name": "Python 3",
      "language": "python"
    },
    "language_info": {
      "name": "python",
      "version": "3.7.9",
      "mimetype": "text/x-python",
      "codemirror_mode": {
        "name": "ipython",
        "version": 3
      },
      "pygments_lexer": "ipython3",
      "nbconvert_exporter": "python",
      "file_extension": ".py"
    },
    "colab": {
      "name": "mnist-digit-classification on kaggle by me.ipynb",
      "provenance": [],
      "collapsed_sections": []
    }
  },
  "cells": [
    {
      "cell_type": "markdown",
      "metadata": {
        "id": "ce73I55EKPla"
      },
      "source": [
        "#View this file on kaggle : https://www.kaggle.com/ariamehr83maleki/mnist-digit-classification"
      ]
    },
    {
      "cell_type": "markdown",
      "metadata": {
        "id": "9VjxA6moJ52J"
      },
      "source": [
        "# Introduction"
      ]
    },
    {
      "cell_type": "markdown",
      "metadata": {
        "id": "FXjgmPLbJ52R"
      },
      "source": [
        "Mnist digit classification is a project involving image recognition wich we have to cassify images of handwritten digits as 0 to 9."
      ]
    },
    {
      "cell_type": "markdown",
      "metadata": {
        "id": "artLLfShJ52R"
      },
      "source": [
        "# Import required modules"
      ]
    },
    {
      "cell_type": "code",
      "metadata": {
        "trusted": true,
        "id": "kHJmYEnQJ52S"
      },
      "source": [
        "import numpy as np # linear algebra\n",
        "import pandas as pd # data processing, CSV file \n",
        "\n",
        "import tensorflow as tf\n",
        "import tensorflow.keras as keras\n",
        "from tensorflow.keras import layers\n",
        "\n",
        "from pylab import plt\n",
        "plt.style.use ('seaborn')\n",
        "#import matplotlib.pyplot as plt\n",
        "\n",
        "from sklearn.model_selection import train_test_split\n",
        "from sklearn.metrics import confusion_matrix\n",
        "\n",
        "keras.backend.set_image_data_format('channels_last')\n",
        "\n",
        "import tensorflow as tf\n",
        "from tensorflow.keras.models import Sequential\n",
        "from tensorflow.keras.layers import Activation, Dense, Dropout\n",
        "from tensorflow.keras import optimizers\n",
        "from tensorflow.keras.utils import to_categorical\n",
        "\n",
        "from tensorflow.keras.utils import plot_model"
      ],
      "execution_count": null,
      "outputs": []
    },
    {
      "cell_type": "markdown",
      "metadata": {
        "id": "Uspo0JDoJ52S"
      },
      "source": [
        "# Read Directories & Folders"
      ]
    },
    {
      "cell_type": "code",
      "metadata": {
        "_uuid": "8f2839f25d086af736a60e9eeb907d3b93b6e0e5",
        "_cell_guid": "b1076dfc-b9ad-4769-8c92-a6c4dae69d19",
        "trusted": true,
        "id": "O6xKUpXQJ52T",
        "outputId": "427edfcb-df5e-4657-f9a1-a7f1a2f682a0"
      },
      "source": [
        "import os\n",
        "for dirname, _, filenames in os.walk('/kaggle/input'):\n",
        "    for filename in filenames:\n",
        "        print(os.path.join(dirname, filename))"
      ],
      "execution_count": null,
      "outputs": [
        {
          "output_type": "stream",
          "text": [
            "/kaggle/input/digit-recognizer/sample_submission.csv\n",
            "/kaggle/input/digit-recognizer/train.csv\n",
            "/kaggle/input/digit-recognizer/test.csv\n"
          ],
          "name": "stdout"
        }
      ]
    },
    {
      "cell_type": "markdown",
      "metadata": {
        "id": "cx9jGp-_J52U"
      },
      "source": [
        "# Load the Data"
      ]
    },
    {
      "cell_type": "code",
      "metadata": {
        "trusted": true,
        "id": "dGwmt4cLJ52U",
        "outputId": "4af6bcbf-46f6-4a1a-840e-d61a5d854652"
      },
      "source": [
        "mnist_train = pd.read_csv('/kaggle/input/digit-recognizer/train.csv')\n",
        "mnist_test = pd.read_csv('/kaggle/input/digit-recognizer/test.csv')\n",
        "\n",
        "display(\" train data\",mnist_train )\n",
        "display(\" test data\",mnist_test )"
      ],
      "execution_count": null,
      "outputs": [
        {
          "output_type": "display_data",
          "data": {
            "text/plain": [
              "' train data'"
            ]
          },
          "metadata": {
            "tags": []
          }
        },
        {
          "output_type": "display_data",
          "data": {
            "text/plain": [
              "       label  pixel0  pixel1  pixel2  pixel3  pixel4  pixel5  pixel6  pixel7  \\\n",
              "0          1       0       0       0       0       0       0       0       0   \n",
              "1          0       0       0       0       0       0       0       0       0   \n",
              "2          1       0       0       0       0       0       0       0       0   \n",
              "3          4       0       0       0       0       0       0       0       0   \n",
              "4          0       0       0       0       0       0       0       0       0   \n",
              "...      ...     ...     ...     ...     ...     ...     ...     ...     ...   \n",
              "41995      0       0       0       0       0       0       0       0       0   \n",
              "41996      1       0       0       0       0       0       0       0       0   \n",
              "41997      7       0       0       0       0       0       0       0       0   \n",
              "41998      6       0       0       0       0       0       0       0       0   \n",
              "41999      9       0       0       0       0       0       0       0       0   \n",
              "\n",
              "       pixel8  ...  pixel774  pixel775  pixel776  pixel777  pixel778  \\\n",
              "0           0  ...         0         0         0         0         0   \n",
              "1           0  ...         0         0         0         0         0   \n",
              "2           0  ...         0         0         0         0         0   \n",
              "3           0  ...         0         0         0         0         0   \n",
              "4           0  ...         0         0         0         0         0   \n",
              "...       ...  ...       ...       ...       ...       ...       ...   \n",
              "41995       0  ...         0         0         0         0         0   \n",
              "41996       0  ...         0         0         0         0         0   \n",
              "41997       0  ...         0         0         0         0         0   \n",
              "41998       0  ...         0         0         0         0         0   \n",
              "41999       0  ...         0         0         0         0         0   \n",
              "\n",
              "       pixel779  pixel780  pixel781  pixel782  pixel783  \n",
              "0             0         0         0         0         0  \n",
              "1             0         0         0         0         0  \n",
              "2             0         0         0         0         0  \n",
              "3             0         0         0         0         0  \n",
              "4             0         0         0         0         0  \n",
              "...         ...       ...       ...       ...       ...  \n",
              "41995         0         0         0         0         0  \n",
              "41996         0         0         0         0         0  \n",
              "41997         0         0         0         0         0  \n",
              "41998         0         0         0         0         0  \n",
              "41999         0         0         0         0         0  \n",
              "\n",
              "[42000 rows x 785 columns]"
            ],
            "text/html": [
              "<div>\n",
              "<style scoped>\n",
              "    .dataframe tbody tr th:only-of-type {\n",
              "        vertical-align: middle;\n",
              "    }\n",
              "\n",
              "    .dataframe tbody tr th {\n",
              "        vertical-align: top;\n",
              "    }\n",
              "\n",
              "    .dataframe thead th {\n",
              "        text-align: right;\n",
              "    }\n",
              "</style>\n",
              "<table border=\"1\" class=\"dataframe\">\n",
              "  <thead>\n",
              "    <tr style=\"text-align: right;\">\n",
              "      <th></th>\n",
              "      <th>label</th>\n",
              "      <th>pixel0</th>\n",
              "      <th>pixel1</th>\n",
              "      <th>pixel2</th>\n",
              "      <th>pixel3</th>\n",
              "      <th>pixel4</th>\n",
              "      <th>pixel5</th>\n",
              "      <th>pixel6</th>\n",
              "      <th>pixel7</th>\n",
              "      <th>pixel8</th>\n",
              "      <th>...</th>\n",
              "      <th>pixel774</th>\n",
              "      <th>pixel775</th>\n",
              "      <th>pixel776</th>\n",
              "      <th>pixel777</th>\n",
              "      <th>pixel778</th>\n",
              "      <th>pixel779</th>\n",
              "      <th>pixel780</th>\n",
              "      <th>pixel781</th>\n",
              "      <th>pixel782</th>\n",
              "      <th>pixel783</th>\n",
              "    </tr>\n",
              "  </thead>\n",
              "  <tbody>\n",
              "    <tr>\n",
              "      <th>0</th>\n",
              "      <td>1</td>\n",
              "      <td>0</td>\n",
              "      <td>0</td>\n",
              "      <td>0</td>\n",
              "      <td>0</td>\n",
              "      <td>0</td>\n",
              "      <td>0</td>\n",
              "      <td>0</td>\n",
              "      <td>0</td>\n",
              "      <td>0</td>\n",
              "      <td>...</td>\n",
              "      <td>0</td>\n",
              "      <td>0</td>\n",
              "      <td>0</td>\n",
              "      <td>0</td>\n",
              "      <td>0</td>\n",
              "      <td>0</td>\n",
              "      <td>0</td>\n",
              "      <td>0</td>\n",
              "      <td>0</td>\n",
              "      <td>0</td>\n",
              "    </tr>\n",
              "    <tr>\n",
              "      <th>1</th>\n",
              "      <td>0</td>\n",
              "      <td>0</td>\n",
              "      <td>0</td>\n",
              "      <td>0</td>\n",
              "      <td>0</td>\n",
              "      <td>0</td>\n",
              "      <td>0</td>\n",
              "      <td>0</td>\n",
              "      <td>0</td>\n",
              "      <td>0</td>\n",
              "      <td>...</td>\n",
              "      <td>0</td>\n",
              "      <td>0</td>\n",
              "      <td>0</td>\n",
              "      <td>0</td>\n",
              "      <td>0</td>\n",
              "      <td>0</td>\n",
              "      <td>0</td>\n",
              "      <td>0</td>\n",
              "      <td>0</td>\n",
              "      <td>0</td>\n",
              "    </tr>\n",
              "    <tr>\n",
              "      <th>2</th>\n",
              "      <td>1</td>\n",
              "      <td>0</td>\n",
              "      <td>0</td>\n",
              "      <td>0</td>\n",
              "      <td>0</td>\n",
              "      <td>0</td>\n",
              "      <td>0</td>\n",
              "      <td>0</td>\n",
              "      <td>0</td>\n",
              "      <td>0</td>\n",
              "      <td>...</td>\n",
              "      <td>0</td>\n",
              "      <td>0</td>\n",
              "      <td>0</td>\n",
              "      <td>0</td>\n",
              "      <td>0</td>\n",
              "      <td>0</td>\n",
              "      <td>0</td>\n",
              "      <td>0</td>\n",
              "      <td>0</td>\n",
              "      <td>0</td>\n",
              "    </tr>\n",
              "    <tr>\n",
              "      <th>3</th>\n",
              "      <td>4</td>\n",
              "      <td>0</td>\n",
              "      <td>0</td>\n",
              "      <td>0</td>\n",
              "      <td>0</td>\n",
              "      <td>0</td>\n",
              "      <td>0</td>\n",
              "      <td>0</td>\n",
              "      <td>0</td>\n",
              "      <td>0</td>\n",
              "      <td>...</td>\n",
              "      <td>0</td>\n",
              "      <td>0</td>\n",
              "      <td>0</td>\n",
              "      <td>0</td>\n",
              "      <td>0</td>\n",
              "      <td>0</td>\n",
              "      <td>0</td>\n",
              "      <td>0</td>\n",
              "      <td>0</td>\n",
              "      <td>0</td>\n",
              "    </tr>\n",
              "    <tr>\n",
              "      <th>4</th>\n",
              "      <td>0</td>\n",
              "      <td>0</td>\n",
              "      <td>0</td>\n",
              "      <td>0</td>\n",
              "      <td>0</td>\n",
              "      <td>0</td>\n",
              "      <td>0</td>\n",
              "      <td>0</td>\n",
              "      <td>0</td>\n",
              "      <td>0</td>\n",
              "      <td>...</td>\n",
              "      <td>0</td>\n",
              "      <td>0</td>\n",
              "      <td>0</td>\n",
              "      <td>0</td>\n",
              "      <td>0</td>\n",
              "      <td>0</td>\n",
              "      <td>0</td>\n",
              "      <td>0</td>\n",
              "      <td>0</td>\n",
              "      <td>0</td>\n",
              "    </tr>\n",
              "    <tr>\n",
              "      <th>...</th>\n",
              "      <td>...</td>\n",
              "      <td>...</td>\n",
              "      <td>...</td>\n",
              "      <td>...</td>\n",
              "      <td>...</td>\n",
              "      <td>...</td>\n",
              "      <td>...</td>\n",
              "      <td>...</td>\n",
              "      <td>...</td>\n",
              "      <td>...</td>\n",
              "      <td>...</td>\n",
              "      <td>...</td>\n",
              "      <td>...</td>\n",
              "      <td>...</td>\n",
              "      <td>...</td>\n",
              "      <td>...</td>\n",
              "      <td>...</td>\n",
              "      <td>...</td>\n",
              "      <td>...</td>\n",
              "      <td>...</td>\n",
              "      <td>...</td>\n",
              "    </tr>\n",
              "    <tr>\n",
              "      <th>41995</th>\n",
              "      <td>0</td>\n",
              "      <td>0</td>\n",
              "      <td>0</td>\n",
              "      <td>0</td>\n",
              "      <td>0</td>\n",
              "      <td>0</td>\n",
              "      <td>0</td>\n",
              "      <td>0</td>\n",
              "      <td>0</td>\n",
              "      <td>0</td>\n",
              "      <td>...</td>\n",
              "      <td>0</td>\n",
              "      <td>0</td>\n",
              "      <td>0</td>\n",
              "      <td>0</td>\n",
              "      <td>0</td>\n",
              "      <td>0</td>\n",
              "      <td>0</td>\n",
              "      <td>0</td>\n",
              "      <td>0</td>\n",
              "      <td>0</td>\n",
              "    </tr>\n",
              "    <tr>\n",
              "      <th>41996</th>\n",
              "      <td>1</td>\n",
              "      <td>0</td>\n",
              "      <td>0</td>\n",
              "      <td>0</td>\n",
              "      <td>0</td>\n",
              "      <td>0</td>\n",
              "      <td>0</td>\n",
              "      <td>0</td>\n",
              "      <td>0</td>\n",
              "      <td>0</td>\n",
              "      <td>...</td>\n",
              "      <td>0</td>\n",
              "      <td>0</td>\n",
              "      <td>0</td>\n",
              "      <td>0</td>\n",
              "      <td>0</td>\n",
              "      <td>0</td>\n",
              "      <td>0</td>\n",
              "      <td>0</td>\n",
              "      <td>0</td>\n",
              "      <td>0</td>\n",
              "    </tr>\n",
              "    <tr>\n",
              "      <th>41997</th>\n",
              "      <td>7</td>\n",
              "      <td>0</td>\n",
              "      <td>0</td>\n",
              "      <td>0</td>\n",
              "      <td>0</td>\n",
              "      <td>0</td>\n",
              "      <td>0</td>\n",
              "      <td>0</td>\n",
              "      <td>0</td>\n",
              "      <td>0</td>\n",
              "      <td>...</td>\n",
              "      <td>0</td>\n",
              "      <td>0</td>\n",
              "      <td>0</td>\n",
              "      <td>0</td>\n",
              "      <td>0</td>\n",
              "      <td>0</td>\n",
              "      <td>0</td>\n",
              "      <td>0</td>\n",
              "      <td>0</td>\n",
              "      <td>0</td>\n",
              "    </tr>\n",
              "    <tr>\n",
              "      <th>41998</th>\n",
              "      <td>6</td>\n",
              "      <td>0</td>\n",
              "      <td>0</td>\n",
              "      <td>0</td>\n",
              "      <td>0</td>\n",
              "      <td>0</td>\n",
              "      <td>0</td>\n",
              "      <td>0</td>\n",
              "      <td>0</td>\n",
              "      <td>0</td>\n",
              "      <td>...</td>\n",
              "      <td>0</td>\n",
              "      <td>0</td>\n",
              "      <td>0</td>\n",
              "      <td>0</td>\n",
              "      <td>0</td>\n",
              "      <td>0</td>\n",
              "      <td>0</td>\n",
              "      <td>0</td>\n",
              "      <td>0</td>\n",
              "      <td>0</td>\n",
              "    </tr>\n",
              "    <tr>\n",
              "      <th>41999</th>\n",
              "      <td>9</td>\n",
              "      <td>0</td>\n",
              "      <td>0</td>\n",
              "      <td>0</td>\n",
              "      <td>0</td>\n",
              "      <td>0</td>\n",
              "      <td>0</td>\n",
              "      <td>0</td>\n",
              "      <td>0</td>\n",
              "      <td>0</td>\n",
              "      <td>...</td>\n",
              "      <td>0</td>\n",
              "      <td>0</td>\n",
              "      <td>0</td>\n",
              "      <td>0</td>\n",
              "      <td>0</td>\n",
              "      <td>0</td>\n",
              "      <td>0</td>\n",
              "      <td>0</td>\n",
              "      <td>0</td>\n",
              "      <td>0</td>\n",
              "    </tr>\n",
              "  </tbody>\n",
              "</table>\n",
              "<p>42000 rows × 785 columns</p>\n",
              "</div>"
            ]
          },
          "metadata": {
            "tags": []
          }
        },
        {
          "output_type": "display_data",
          "data": {
            "text/plain": [
              "' test data'"
            ]
          },
          "metadata": {
            "tags": []
          }
        },
        {
          "output_type": "display_data",
          "data": {
            "text/plain": [
              "       pixel0  pixel1  pixel2  pixel3  pixel4  pixel5  pixel6  pixel7  pixel8  \\\n",
              "0           0       0       0       0       0       0       0       0       0   \n",
              "1           0       0       0       0       0       0       0       0       0   \n",
              "2           0       0       0       0       0       0       0       0       0   \n",
              "3           0       0       0       0       0       0       0       0       0   \n",
              "4           0       0       0       0       0       0       0       0       0   \n",
              "...       ...     ...     ...     ...     ...     ...     ...     ...     ...   \n",
              "27995       0       0       0       0       0       0       0       0       0   \n",
              "27996       0       0       0       0       0       0       0       0       0   \n",
              "27997       0       0       0       0       0       0       0       0       0   \n",
              "27998       0       0       0       0       0       0       0       0       0   \n",
              "27999       0       0       0       0       0       0       0       0       0   \n",
              "\n",
              "       pixel9  ...  pixel774  pixel775  pixel776  pixel777  pixel778  \\\n",
              "0           0  ...         0         0         0         0         0   \n",
              "1           0  ...         0         0         0         0         0   \n",
              "2           0  ...         0         0         0         0         0   \n",
              "3           0  ...         0         0         0         0         0   \n",
              "4           0  ...         0         0         0         0         0   \n",
              "...       ...  ...       ...       ...       ...       ...       ...   \n",
              "27995       0  ...         0         0         0         0         0   \n",
              "27996       0  ...         0         0         0         0         0   \n",
              "27997       0  ...         0         0         0         0         0   \n",
              "27998       0  ...         0         0         0         0         0   \n",
              "27999       0  ...         0         0         0         0         0   \n",
              "\n",
              "       pixel779  pixel780  pixel781  pixel782  pixel783  \n",
              "0             0         0         0         0         0  \n",
              "1             0         0         0         0         0  \n",
              "2             0         0         0         0         0  \n",
              "3             0         0         0         0         0  \n",
              "4             0         0         0         0         0  \n",
              "...         ...       ...       ...       ...       ...  \n",
              "27995         0         0         0         0         0  \n",
              "27996         0         0         0         0         0  \n",
              "27997         0         0         0         0         0  \n",
              "27998         0         0         0         0         0  \n",
              "27999         0         0         0         0         0  \n",
              "\n",
              "[28000 rows x 784 columns]"
            ],
            "text/html": [
              "<div>\n",
              "<style scoped>\n",
              "    .dataframe tbody tr th:only-of-type {\n",
              "        vertical-align: middle;\n",
              "    }\n",
              "\n",
              "    .dataframe tbody tr th {\n",
              "        vertical-align: top;\n",
              "    }\n",
              "\n",
              "    .dataframe thead th {\n",
              "        text-align: right;\n",
              "    }\n",
              "</style>\n",
              "<table border=\"1\" class=\"dataframe\">\n",
              "  <thead>\n",
              "    <tr style=\"text-align: right;\">\n",
              "      <th></th>\n",
              "      <th>pixel0</th>\n",
              "      <th>pixel1</th>\n",
              "      <th>pixel2</th>\n",
              "      <th>pixel3</th>\n",
              "      <th>pixel4</th>\n",
              "      <th>pixel5</th>\n",
              "      <th>pixel6</th>\n",
              "      <th>pixel7</th>\n",
              "      <th>pixel8</th>\n",
              "      <th>pixel9</th>\n",
              "      <th>...</th>\n",
              "      <th>pixel774</th>\n",
              "      <th>pixel775</th>\n",
              "      <th>pixel776</th>\n",
              "      <th>pixel777</th>\n",
              "      <th>pixel778</th>\n",
              "      <th>pixel779</th>\n",
              "      <th>pixel780</th>\n",
              "      <th>pixel781</th>\n",
              "      <th>pixel782</th>\n",
              "      <th>pixel783</th>\n",
              "    </tr>\n",
              "  </thead>\n",
              "  <tbody>\n",
              "    <tr>\n",
              "      <th>0</th>\n",
              "      <td>0</td>\n",
              "      <td>0</td>\n",
              "      <td>0</td>\n",
              "      <td>0</td>\n",
              "      <td>0</td>\n",
              "      <td>0</td>\n",
              "      <td>0</td>\n",
              "      <td>0</td>\n",
              "      <td>0</td>\n",
              "      <td>0</td>\n",
              "      <td>...</td>\n",
              "      <td>0</td>\n",
              "      <td>0</td>\n",
              "      <td>0</td>\n",
              "      <td>0</td>\n",
              "      <td>0</td>\n",
              "      <td>0</td>\n",
              "      <td>0</td>\n",
              "      <td>0</td>\n",
              "      <td>0</td>\n",
              "      <td>0</td>\n",
              "    </tr>\n",
              "    <tr>\n",
              "      <th>1</th>\n",
              "      <td>0</td>\n",
              "      <td>0</td>\n",
              "      <td>0</td>\n",
              "      <td>0</td>\n",
              "      <td>0</td>\n",
              "      <td>0</td>\n",
              "      <td>0</td>\n",
              "      <td>0</td>\n",
              "      <td>0</td>\n",
              "      <td>0</td>\n",
              "      <td>...</td>\n",
              "      <td>0</td>\n",
              "      <td>0</td>\n",
              "      <td>0</td>\n",
              "      <td>0</td>\n",
              "      <td>0</td>\n",
              "      <td>0</td>\n",
              "      <td>0</td>\n",
              "      <td>0</td>\n",
              "      <td>0</td>\n",
              "      <td>0</td>\n",
              "    </tr>\n",
              "    <tr>\n",
              "      <th>2</th>\n",
              "      <td>0</td>\n",
              "      <td>0</td>\n",
              "      <td>0</td>\n",
              "      <td>0</td>\n",
              "      <td>0</td>\n",
              "      <td>0</td>\n",
              "      <td>0</td>\n",
              "      <td>0</td>\n",
              "      <td>0</td>\n",
              "      <td>0</td>\n",
              "      <td>...</td>\n",
              "      <td>0</td>\n",
              "      <td>0</td>\n",
              "      <td>0</td>\n",
              "      <td>0</td>\n",
              "      <td>0</td>\n",
              "      <td>0</td>\n",
              "      <td>0</td>\n",
              "      <td>0</td>\n",
              "      <td>0</td>\n",
              "      <td>0</td>\n",
              "    </tr>\n",
              "    <tr>\n",
              "      <th>3</th>\n",
              "      <td>0</td>\n",
              "      <td>0</td>\n",
              "      <td>0</td>\n",
              "      <td>0</td>\n",
              "      <td>0</td>\n",
              "      <td>0</td>\n",
              "      <td>0</td>\n",
              "      <td>0</td>\n",
              "      <td>0</td>\n",
              "      <td>0</td>\n",
              "      <td>...</td>\n",
              "      <td>0</td>\n",
              "      <td>0</td>\n",
              "      <td>0</td>\n",
              "      <td>0</td>\n",
              "      <td>0</td>\n",
              "      <td>0</td>\n",
              "      <td>0</td>\n",
              "      <td>0</td>\n",
              "      <td>0</td>\n",
              "      <td>0</td>\n",
              "    </tr>\n",
              "    <tr>\n",
              "      <th>4</th>\n",
              "      <td>0</td>\n",
              "      <td>0</td>\n",
              "      <td>0</td>\n",
              "      <td>0</td>\n",
              "      <td>0</td>\n",
              "      <td>0</td>\n",
              "      <td>0</td>\n",
              "      <td>0</td>\n",
              "      <td>0</td>\n",
              "      <td>0</td>\n",
              "      <td>...</td>\n",
              "      <td>0</td>\n",
              "      <td>0</td>\n",
              "      <td>0</td>\n",
              "      <td>0</td>\n",
              "      <td>0</td>\n",
              "      <td>0</td>\n",
              "      <td>0</td>\n",
              "      <td>0</td>\n",
              "      <td>0</td>\n",
              "      <td>0</td>\n",
              "    </tr>\n",
              "    <tr>\n",
              "      <th>...</th>\n",
              "      <td>...</td>\n",
              "      <td>...</td>\n",
              "      <td>...</td>\n",
              "      <td>...</td>\n",
              "      <td>...</td>\n",
              "      <td>...</td>\n",
              "      <td>...</td>\n",
              "      <td>...</td>\n",
              "      <td>...</td>\n",
              "      <td>...</td>\n",
              "      <td>...</td>\n",
              "      <td>...</td>\n",
              "      <td>...</td>\n",
              "      <td>...</td>\n",
              "      <td>...</td>\n",
              "      <td>...</td>\n",
              "      <td>...</td>\n",
              "      <td>...</td>\n",
              "      <td>...</td>\n",
              "      <td>...</td>\n",
              "      <td>...</td>\n",
              "    </tr>\n",
              "    <tr>\n",
              "      <th>27995</th>\n",
              "      <td>0</td>\n",
              "      <td>0</td>\n",
              "      <td>0</td>\n",
              "      <td>0</td>\n",
              "      <td>0</td>\n",
              "      <td>0</td>\n",
              "      <td>0</td>\n",
              "      <td>0</td>\n",
              "      <td>0</td>\n",
              "      <td>0</td>\n",
              "      <td>...</td>\n",
              "      <td>0</td>\n",
              "      <td>0</td>\n",
              "      <td>0</td>\n",
              "      <td>0</td>\n",
              "      <td>0</td>\n",
              "      <td>0</td>\n",
              "      <td>0</td>\n",
              "      <td>0</td>\n",
              "      <td>0</td>\n",
              "      <td>0</td>\n",
              "    </tr>\n",
              "    <tr>\n",
              "      <th>27996</th>\n",
              "      <td>0</td>\n",
              "      <td>0</td>\n",
              "      <td>0</td>\n",
              "      <td>0</td>\n",
              "      <td>0</td>\n",
              "      <td>0</td>\n",
              "      <td>0</td>\n",
              "      <td>0</td>\n",
              "      <td>0</td>\n",
              "      <td>0</td>\n",
              "      <td>...</td>\n",
              "      <td>0</td>\n",
              "      <td>0</td>\n",
              "      <td>0</td>\n",
              "      <td>0</td>\n",
              "      <td>0</td>\n",
              "      <td>0</td>\n",
              "      <td>0</td>\n",
              "      <td>0</td>\n",
              "      <td>0</td>\n",
              "      <td>0</td>\n",
              "    </tr>\n",
              "    <tr>\n",
              "      <th>27997</th>\n",
              "      <td>0</td>\n",
              "      <td>0</td>\n",
              "      <td>0</td>\n",
              "      <td>0</td>\n",
              "      <td>0</td>\n",
              "      <td>0</td>\n",
              "      <td>0</td>\n",
              "      <td>0</td>\n",
              "      <td>0</td>\n",
              "      <td>0</td>\n",
              "      <td>...</td>\n",
              "      <td>0</td>\n",
              "      <td>0</td>\n",
              "      <td>0</td>\n",
              "      <td>0</td>\n",
              "      <td>0</td>\n",
              "      <td>0</td>\n",
              "      <td>0</td>\n",
              "      <td>0</td>\n",
              "      <td>0</td>\n",
              "      <td>0</td>\n",
              "    </tr>\n",
              "    <tr>\n",
              "      <th>27998</th>\n",
              "      <td>0</td>\n",
              "      <td>0</td>\n",
              "      <td>0</td>\n",
              "      <td>0</td>\n",
              "      <td>0</td>\n",
              "      <td>0</td>\n",
              "      <td>0</td>\n",
              "      <td>0</td>\n",
              "      <td>0</td>\n",
              "      <td>0</td>\n",
              "      <td>...</td>\n",
              "      <td>0</td>\n",
              "      <td>0</td>\n",
              "      <td>0</td>\n",
              "      <td>0</td>\n",
              "      <td>0</td>\n",
              "      <td>0</td>\n",
              "      <td>0</td>\n",
              "      <td>0</td>\n",
              "      <td>0</td>\n",
              "      <td>0</td>\n",
              "    </tr>\n",
              "    <tr>\n",
              "      <th>27999</th>\n",
              "      <td>0</td>\n",
              "      <td>0</td>\n",
              "      <td>0</td>\n",
              "      <td>0</td>\n",
              "      <td>0</td>\n",
              "      <td>0</td>\n",
              "      <td>0</td>\n",
              "      <td>0</td>\n",
              "      <td>0</td>\n",
              "      <td>0</td>\n",
              "      <td>...</td>\n",
              "      <td>0</td>\n",
              "      <td>0</td>\n",
              "      <td>0</td>\n",
              "      <td>0</td>\n",
              "      <td>0</td>\n",
              "      <td>0</td>\n",
              "      <td>0</td>\n",
              "      <td>0</td>\n",
              "      <td>0</td>\n",
              "      <td>0</td>\n",
              "    </tr>\n",
              "  </tbody>\n",
              "</table>\n",
              "<p>28000 rows × 784 columns</p>\n",
              "</div>"
            ]
          },
          "metadata": {
            "tags": []
          }
        }
      ]
    },
    {
      "cell_type": "markdown",
      "metadata": {
        "id": "bVPp8qReJ52V"
      },
      "source": [
        "Each image is 28 pixels in height and 28 pixels in width, for a total of 784 pixels in total. Each pixel has a single pixel-value associated with it, indicating the lightness or darkness of that pixel, with higher numbers meaning darker. This pixel-value is an integer between 0 and 255, inclusive."
      ]
    },
    {
      "cell_type": "code",
      "metadata": {
        "trusted": true,
        "id": "2M2c7StiJ52V"
      },
      "source": [
        "# Convert to trian and test data; Preserve original dataset\n",
        "X_train = mnist_train.drop('label', axis=1).copy()\n",
        "X_test = mnist_test.copy()\n",
        "Y_train = mnist_train['label'].copy()"
      ],
      "execution_count": null,
      "outputs": []
    },
    {
      "cell_type": "code",
      "metadata": {
        "trusted": true,
        "id": "mV-Z_KAHJ52V",
        "outputId": "0ddd2dbf-927c-48b9-f20c-9b231f8f9d8f"
      },
      "source": [
        "print (f'The train dataset has shape {X_train.shape} and the labels shape is: {Y_train.shape}')\n",
        "print (f'The test dataset has shape {X_test.shape}')"
      ],
      "execution_count": null,
      "outputs": [
        {
          "output_type": "stream",
          "text": [
            "The train dataset has shape (42000, 784) and the labels shape is: (42000,)\n",
            "The test dataset has shape (28000, 784)\n"
          ],
          "name": "stdout"
        }
      ]
    },
    {
      "cell_type": "code",
      "metadata": {
        "trusted": true,
        "id": "gw3NUJTCJ52W"
      },
      "source": [
        "# Reshape to 28 x 28 so that we can see the image ie. handwritten number\n",
        "# resahping the train inputs to be 4D arrays so we can be able to load them\n",
        "X_train = X_train.values.reshape(-1, 28, 28, 1)\n",
        "X_test = X_test.values.reshape(-1, 28, 28, 1)"
      ],
      "execution_count": null,
      "outputs": []
    },
    {
      "cell_type": "code",
      "metadata": {
        "trusted": true,
        "id": "LJ6R5hHCJ52W",
        "outputId": "1cc74dc4-c7b0-45f7-89eb-d020eb083047"
      },
      "source": [
        "# plot some of the data with their labels as titles:\n",
        "fig, ax= plt.subplots (2, 8, figsize= [12,4])\n",
        "for i in range (2):\n",
        "    for j in range (8):\n",
        "        rnd= np.random.randint (len(X_train))\n",
        "        ax[i, j].imshow (X_train[rnd])\n",
        "        ax[i, j].set_title (Y_train [rnd])\n",
        "        ax[i, j].set_xticklabels([])\n",
        "        ax[i, j].set_yticklabels([])"
      ],
      "execution_count": null,
      "outputs": [
        {
          "output_type": "display_data",
          "data": {
            "text/plain": [
              "<Figure size 864x288 with 16 Axes>"
            ],
            "image/png": "[encoded data removed]"
          },
          "metadata": {
            "tags": []
          }
        }
      ]
    },
    {
      "cell_type": "code",
      "metadata": {
        "trusted": true,
        "id": "qBopG7LuJ52W",
        "outputId": "3ffafb8f-fedb-433a-9de3-93e99bfd7e17"
      },
      "source": [
        "# Some preprocess on data:\n",
        "\n",
        "X_train= X_train.reshape ((X_train.shape[0], -1))  ### flatten the train inputs to be 1D arrays\n",
        "X_test= X_test.reshape ((X_test.shape[0], -1))     ### flatten the test inputs to be 1D arrays\n",
        "\n",
        "print (X_train.shape, X_test.shape)\n",
        "\n",
        "Y_train= to_categorical(Y_train, num_classes=10, dtype=\"int\")   ###  One-hot encode the labels to make them real classes, due to do classification"
      ],
      "execution_count": null,
      "outputs": [
        {
          "output_type": "stream",
          "text": [
            "(42000, 784) (28000, 784)\n"
          ],
          "name": "stdout"
        }
      ]
    },
    {
      "cell_type": "markdown",
      "metadata": {
        "id": "AaksWlvWJ52X"
      },
      "source": [
        "We will normalize the input dataset. This is generally a good idea to avoide some issues like \"nan loss\""
      ]
    },
    {
      "cell_type": "code",
      "metadata": {
        "trusted": true,
        "id": "vxNY0IWqJ52X"
      },
      "source": [
        "X_train= X_train / 255\n",
        "X_test= X_test / 255"
      ],
      "execution_count": null,
      "outputs": []
    },
    {
      "cell_type": "markdown",
      "metadata": {
        "id": "ZabRF2GpJ52X"
      },
      "source": [
        "# A Simple Model"
      ]
    },
    {
      "cell_type": "code",
      "metadata": {
        "trusted": true,
        "id": "aOR8-OZGJ52Y",
        "outputId": "719b0642-8c56-44c3-83b6-7aa95fc9190d"
      },
      "source": [
        "model= Sequential ()\n",
        "\n",
        "# INputs and first HIDDEN layer\n",
        "model.add (Dense (512, input_shape= (X_train.shape[1], )))\n",
        "model.add (Activation ('relu'))\n",
        "\n",
        "# HIDDEN layers\n",
        "model.add (Dense (256))\n",
        "model.add (Dense (128))\n",
        "\n",
        "# OUTput\n",
        "model.add (Dense (10))\n",
        "model.add (Activation('softmax'))\n",
        "\n",
        "### Visualize the model's detail\n",
        "print (model.summary())\n",
        "plot_model (model, show_shapes=True)"
      ],
      "execution_count": null,
      "outputs": [
        {
          "output_type": "stream",
          "text": [
            "Model: \"sequential\"\n",
            "_________________________________________________________________\n",
            "Layer (type)                 Output Shape              Param #   \n",
            "=================================================================\n",
            "dense (Dense)                (None, 512)               401920    \n",
            "_________________________________________________________________\n",
            "activation (Activation)      (None, 512)               0         \n",
            "_________________________________________________________________\n",
            "dense_1 (Dense)              (None, 256)               131328    \n",
            "_________________________________________________________________\n",
            "dense_2 (Dense)              (None, 128)               32896     \n",
            "_________________________________________________________________\n",
            "dense_3 (Dense)              (None, 10)                1290      \n",
            "_________________________________________________________________\n",
            "activation_1 (Activation)    (None, 10)                0         \n",
            "=================================================================\n",
            "Total params: 567,434\n",
            "Trainable params: 567,434\n",
            "Non-trainable params: 0\n",
            "_________________________________________________________________\n",
            "None\n"
          ],
          "name": "stdout"
        },
        {
          "output_type": "execute_result",
          "data": {
            "image/png": "[encoded data removed]",
            "text/plain": [
              "<IPython.core.display.Image object>"
            ]
          },
          "metadata": {
            "tags": []
          },
          "execution_count": 11
        }
      ]
    },
    {
      "cell_type": "code",
      "metadata": {
        "trusted": true,
        "id": "mjEMWNtnJ52Y"
      },
      "source": [
        "model.compile(optimizer = 'adam', loss = 'categorical_crossentropy', metrics = ['accuracy'])"
      ],
      "execution_count": null,
      "outputs": []
    },
    {
      "cell_type": "code",
      "metadata": {
        "trusted": true,
        "id": "PP6gAncJJ52Y",
        "outputId": "76b591da-d731-486d-f4b7-e77dd5dbe86b"
      },
      "source": [
        "history= model.fit (X_train, Y_train, epochs= 50, batch_size= 32, validation_split= 0.3, verbose= 1, callbacks= [])"
      ],
      "execution_count": null,
      "outputs": [
        {
          "output_type": "stream",
          "text": [
            "Epoch 1/50\n",
            "919/919 [==============================] - 5s 4ms/step - loss: 0.4058 - accuracy: 0.8706 - val_loss: 0.1496 - val_accuracy: 0.9537\n",
            "Epoch 2/50\n",
            "919/919 [==============================] - 3s 3ms/step - loss: 0.1164 - accuracy: 0.9636 - val_loss: 0.1329 - val_accuracy: 0.9625\n",
            "Epoch 3/50\n",
            "919/919 [==============================] - 3s 3ms/step - loss: 0.0810 - accuracy: 0.9736 - val_loss: 0.1310 - val_accuracy: 0.9639\n",
            "Epoch 4/50\n",
            "919/919 [==============================] - 3s 3ms/step - loss: 0.0586 - accuracy: 0.9822 - val_loss: 0.1260 - val_accuracy: 0.9655\n",
            "Epoch 5/50\n",
            "919/919 [==============================] - 3s 3ms/step - loss: 0.0473 - accuracy: 0.9846 - val_loss: 0.1281 - val_accuracy: 0.9697\n",
            "Epoch 6/50\n",
            "919/919 [==============================] - 4s 4ms/step - loss: 0.0431 - accuracy: 0.9858 - val_loss: 0.1204 - val_accuracy: 0.9733\n",
            "Epoch 7/50\n",
            "919/919 [==============================] - 3s 3ms/step - loss: 0.0347 - accuracy: 0.9886 - val_loss: 0.1544 - val_accuracy: 0.9659\n",
            "Epoch 8/50\n",
            "919/919 [==============================] - 3s 3ms/step - loss: 0.0270 - accuracy: 0.9922 - val_loss: 0.1317 - val_accuracy: 0.9727\n",
            "Epoch 9/50\n",
            "919/919 [==============================] - 3s 3ms/step - loss: 0.0274 - accuracy: 0.9911 - val_loss: 0.1521 - val_accuracy: 0.9702\n",
            "Epoch 10/50\n",
            "919/919 [==============================] - 3s 3ms/step - loss: 0.0334 - accuracy: 0.9904 - val_loss: 0.1904 - val_accuracy: 0.9651\n",
            "Epoch 11/50\n",
            "919/919 [==============================] - 3s 3ms/step - loss: 0.0258 - accuracy: 0.9924 - val_loss: 0.1432 - val_accuracy: 0.9742\n",
            "Epoch 12/50\n",
            "919/919 [==============================] - 3s 3ms/step - loss: 0.0185 - accuracy: 0.9946 - val_loss: 0.1693 - val_accuracy: 0.9702\n",
            "Epoch 13/50\n",
            "919/919 [==============================] - 3s 3ms/step - loss: 0.0251 - accuracy: 0.9926 - val_loss: 0.1740 - val_accuracy: 0.9737\n",
            "Epoch 14/50\n",
            "919/919 [==============================] - 3s 3ms/step - loss: 0.0207 - accuracy: 0.9936 - val_loss: 0.1581 - val_accuracy: 0.9720\n",
            "Epoch 15/50\n",
            "919/919 [==============================] - 3s 3ms/step - loss: 0.0242 - accuracy: 0.9925 - val_loss: 0.1769 - val_accuracy: 0.9721\n",
            "Epoch 16/50\n",
            "919/919 [==============================] - 3s 3ms/step - loss: 0.0113 - accuracy: 0.9966 - val_loss: 0.1870 - val_accuracy: 0.9721\n",
            "Epoch 17/50\n",
            "919/919 [==============================] - 4s 4ms/step - loss: 0.0259 - accuracy: 0.9939 - val_loss: 0.1838 - val_accuracy: 0.9698\n",
            "Epoch 18/50\n",
            "919/919 [==============================] - 3s 3ms/step - loss: 0.0173 - accuracy: 0.9959 - val_loss: 0.2014 - val_accuracy: 0.9702\n",
            "Epoch 19/50\n",
            "919/919 [==============================] - 3s 3ms/step - loss: 0.0196 - accuracy: 0.9939 - val_loss: 0.1612 - val_accuracy: 0.9749\n",
            "Epoch 20/50\n",
            "919/919 [==============================] - 3s 3ms/step - loss: 0.0099 - accuracy: 0.9970 - val_loss: 0.1904 - val_accuracy: 0.9731\n",
            "Epoch 21/50\n",
            "919/919 [==============================] - 3s 3ms/step - loss: 0.0245 - accuracy: 0.9937 - val_loss: 0.1971 - val_accuracy: 0.9710\n",
            "Epoch 22/50\n",
            "919/919 [==============================] - 3s 3ms/step - loss: 0.0105 - accuracy: 0.9967 - val_loss: 0.2254 - val_accuracy: 0.9667\n",
            "Epoch 23/50\n",
            "919/919 [==============================] - 3s 3ms/step - loss: 0.0194 - accuracy: 0.9953 - val_loss: 0.1853 - val_accuracy: 0.9733\n",
            "Epoch 24/50\n",
            "919/919 [==============================] - 3s 3ms/step - loss: 0.0084 - accuracy: 0.9976 - val_loss: 0.2065 - val_accuracy: 0.9730\n",
            "Epoch 25/50\n",
            "919/919 [==============================] - 3s 3ms/step - loss: 0.0263 - accuracy: 0.9936 - val_loss: 0.1915 - val_accuracy: 0.9750\n",
            "Epoch 26/50\n",
            "919/919 [==============================] - 3s 3ms/step - loss: 0.0110 - accuracy: 0.9972 - val_loss: 0.2165 - val_accuracy: 0.9737\n",
            "Epoch 27/50\n",
            "919/919 [==============================] - 3s 3ms/step - loss: 0.0123 - accuracy: 0.9969 - val_loss: 0.2799 - val_accuracy: 0.9700\n",
            "Epoch 28/50\n",
            "919/919 [==============================] - 4s 4ms/step - loss: 0.0189 - accuracy: 0.9953 - val_loss: 0.2051 - val_accuracy: 0.9724\n",
            "Epoch 29/50\n",
            "919/919 [==============================] - 3s 3ms/step - loss: 0.0124 - accuracy: 0.9974 - val_loss: 0.2066 - val_accuracy: 0.9721\n",
            "Epoch 30/50\n",
            "919/919 [==============================] - 3s 3ms/step - loss: 0.0143 - accuracy: 0.9962 - val_loss: 0.2071 - val_accuracy: 0.9737\n",
            "Epoch 31/50\n",
            "919/919 [==============================] - 3s 3ms/step - loss: 0.0079 - accuracy: 0.9982 - val_loss: 0.2326 - val_accuracy: 0.9736\n",
            "Epoch 32/50\n",
            "919/919 [==============================] - 3s 3ms/step - loss: 0.0132 - accuracy: 0.9961 - val_loss: 0.1891 - val_accuracy: 0.9770\n",
            "Epoch 33/50\n",
            "919/919 [==============================] - 3s 3ms/step - loss: 0.0148 - accuracy: 0.9978 - val_loss: 0.1968 - val_accuracy: 0.9771\n",
            "Epoch 34/50\n",
            "919/919 [==============================] - 3s 3ms/step - loss: 0.0119 - accuracy: 0.9969 - val_loss: 0.2839 - val_accuracy: 0.9693\n",
            "Epoch 35/50\n",
            "919/919 [==============================] - 3s 3ms/step - loss: 0.0149 - accuracy: 0.9964 - val_loss: 0.2179 - val_accuracy: 0.9755\n",
            "Epoch 36/50\n",
            "919/919 [==============================] - 3s 3ms/step - loss: 0.0083 - accuracy: 0.9969 - val_loss: 0.2301 - val_accuracy: 0.9737\n",
            "Epoch 37/50\n",
            "919/919 [==============================] - 3s 3ms/step - loss: 0.0158 - accuracy: 0.9966 - val_loss: 0.2543 - val_accuracy: 0.9730\n",
            "Epoch 38/50\n",
            "919/919 [==============================] - 3s 3ms/step - loss: 0.0141 - accuracy: 0.9961 - val_loss: 0.2806 - val_accuracy: 0.9729\n",
            "Epoch 39/50\n",
            "919/919 [==============================] - 4s 4ms/step - loss: 0.0054 - accuracy: 0.9985 - val_loss: 0.2459 - val_accuracy: 0.9756\n",
            "Epoch 40/50\n",
            "919/919 [==============================] - 3s 3ms/step - loss: 0.0095 - accuracy: 0.9975 - val_loss: 0.2470 - val_accuracy: 0.9755\n",
            "Epoch 41/50\n",
            "919/919 [==============================] - 3s 3ms/step - loss: 0.0153 - accuracy: 0.9966 - val_loss: 0.2547 - val_accuracy: 0.9759\n",
            "Epoch 42/50\n",
            "919/919 [==============================] - 3s 3ms/step - loss: 0.0102 - accuracy: 0.9974 - val_loss: 0.2478 - val_accuracy: 0.9772\n",
            "Epoch 43/50\n",
            "919/919 [==============================] - 3s 3ms/step - loss: 0.0132 - accuracy: 0.9970 - val_loss: 0.2859 - val_accuracy: 0.9735\n",
            "Epoch 44/50\n",
            "919/919 [==============================] - 3s 3ms/step - loss: 0.0079 - accuracy: 0.9985 - val_loss: 0.2613 - val_accuracy: 0.9758\n",
            "Epoch 45/50\n",
            "919/919 [==============================] - 3s 3ms/step - loss: 0.0099 - accuracy: 0.9977 - val_loss: 0.3005 - val_accuracy: 0.9737\n",
            "Epoch 46/50\n",
            "919/919 [==============================] - 3s 3ms/step - loss: 0.0102 - accuracy: 0.9975 - val_loss: 0.2850 - val_accuracy: 0.9745\n",
            "Epoch 47/50\n",
            "919/919 [==============================] - 3s 3ms/step - loss: 0.0087 - accuracy: 0.9978 - val_loss: 0.2693 - val_accuracy: 0.9767\n",
            "Epoch 48/50\n",
            "919/919 [==============================] - 3s 3ms/step - loss: 0.0068 - accuracy: 0.9984 - val_loss: 0.3639 - val_accuracy: 0.9682\n",
            "Epoch 49/50\n",
            "919/919 [==============================] - 3s 3ms/step - loss: 0.0235 - accuracy: 0.9957 - val_loss: 0.3076 - val_accuracy: 0.9746\n",
            "Epoch 50/50\n",
            "919/919 [==============================] - 4s 4ms/step - loss: 0.0048 - accuracy: 0.9990 - val_loss: 0.2921 - val_accuracy: 0.9744\n"
          ],
          "name": "stdout"
        }
      ]
    },
    {
      "cell_type": "markdown",
      "metadata": {
        "id": "OZa1vKx4J52Z"
      },
      "source": [
        "To see how our model is going, we plot \"Learning Curves\""
      ]
    },
    {
      "cell_type": "code",
      "metadata": {
        "trusted": true,
        "id": "KPFjjIzgJ52Z",
        "outputId": "9987e7df-0dbf-4c25-bc68-55bc2a41183b"
      },
      "source": [
        "plt.plot(history.history ['loss'], label= 'loss')\n",
        "plt.plot(history.history ['val_loss'], label= 'val_loss')\n",
        "\n",
        "plt.legend ()"
      ],
      "execution_count": null,
      "outputs": [
        {
          "output_type": "execute_result",
          "data": {
            "text/plain": [
              "<matplotlib.legend.Legend at 0x7fc4640f22d0>"
            ]
          },
          "metadata": {
            "tags": []
          },
          "execution_count": 14
        },
        {
          "output_type": "display_data",
          "data": {
            "text/plain": [
              "<Figure size 576x396 with 1 Axes>"
            ],
            "image/png": "[encoded data removed]"
          },
          "metadata": {
            "tags": []
          }
        }
      ]
    },
    {
      "cell_type": "code",
      "metadata": {
        "trusted": true,
        "id": "iyLWPF0eJ52Z",
        "outputId": "199e8f92-0f35-4c89-db98-008395d67ee9"
      },
      "source": [
        "plt.plot(history.history ['accuracy'], label= 'accuracy')\n",
        "plt.plot(history.history ['val_accuracy'], label= 'val_accuracy')\n",
        "\n",
        "plt.legend ()"
      ],
      "execution_count": null,
      "outputs": [
        {
          "output_type": "execute_result",
          "data": {
            "text/plain": [
              "<matplotlib.legend.Legend at 0x7fc464035b90>"
            ]
          },
          "metadata": {
            "tags": []
          },
          "execution_count": 15
        },
        {
          "output_type": "display_data",
          "data": {
            "text/plain": [
              "<Figure size 576x396 with 1 Axes>"
            ],
            "image/png": "[encoded data removed]"
          },
          "metadata": {
            "tags": []
          }
        }
      ]
    },
    {
      "cell_type": "code",
      "metadata": {
        "trusted": true,
        "id": "OswRSzLOJ52Z",
        "outputId": "94e0ead8-ea1d-40b0-d92d-2fca12fd7759"
      },
      "source": [
        "results = model.predict(X_test)\n",
        "\n",
        "# select the indices with the maximum probability\n",
        "results = np.argmax(results,axis = 1) \n",
        "results = pd.Series(results,name=\"Label\")\n",
        "results"
      ],
      "execution_count": null,
      "outputs": [
        {
          "output_type": "execute_result",
          "data": {
            "text/plain": [
              "0        2\n",
              "1        0\n",
              "2        9\n",
              "3        9\n",
              "4        3\n",
              "        ..\n",
              "27995    9\n",
              "27996    7\n",
              "27997    3\n",
              "27998    9\n",
              "27999    2\n",
              "Name: Label, Length: 28000, dtype: int64"
            ]
          },
          "metadata": {
            "tags": []
          },
          "execution_count": 26
        }
      ]
    }
  ]
}
